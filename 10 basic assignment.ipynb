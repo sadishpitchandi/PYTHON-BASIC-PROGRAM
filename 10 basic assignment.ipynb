{
 "cells": [
  {
   "cell_type": "markdown",
   "id": "24aeb0d4",
   "metadata": {},
   "source": [
    "1. Write a Python program to find sum of elements in list?"
   ]
  },
  {
   "cell_type": "code",
   "execution_count": 3,
   "id": "15e5c8f0",
   "metadata": {},
   "outputs": [
    {
     "name": "stdout",
     "output_type": "stream",
     "text": [
      "sum of element 36\n"
     ]
    }
   ],
   "source": [
    "list=[1,2,3,4,5,6,7,8,9]\n",
    "sum=0\n",
    "for i in range(len(list)):\n",
    "    sum=sum+i\n",
    "print(\"sum of element\",sum)"
   ]
  },
  {
   "cell_type": "markdown",
   "id": "285353ef",
   "metadata": {},
   "source": [
    "2. Write a Python program to Multiply all numbers in the list?"
   ]
  },
  {
   "cell_type": "code",
   "execution_count": 10,
   "id": "9deb2fa6",
   "metadata": {},
   "outputs": [
    {
     "name": "stdout",
     "output_type": "stream",
     "text": [
      "product of element 362880\n"
     ]
    }
   ],
   "source": [
    "list=[1,2,3,4,5,6,7,8,9]\n",
    "sum=1   # first from 1  not 0 in muyylpilicaion\n",
    "for i in range(1,10):\n",
    "    sum=sum*i\n",
    "print(\"product of element\",sum)"
   ]
  },
  {
   "cell_type": "markdown",
   "id": "787bc05a",
   "metadata": {},
   "source": [
    "3. Write a Python program to find smallest number in the list ?"
   ]
  },
  {
   "cell_type": "code",
   "execution_count": 26,
   "id": "4f17dffb",
   "metadata": {},
   "outputs": [
    {
     "name": "stdout",
     "output_type": "stream",
     "text": [
      "the smaller number is   2\n"
     ]
    }
   ],
   "source": [
    "list=[50,30,20,56,77,22,4,56,43,2,67883,567,556,8978,764,332,1000]\n",
    "sum=list[0]\n",
    "for i in list:\n",
    "    if sum>i:\n",
    "        sum=i  #  already the value the is 20 and  the change he  vaslue ofthe it .\n",
    "print(\"the smaller number is  \",sum)\n",
    "        "
   ]
  },
  {
   "cell_type": "markdown",
   "id": "265cbe97",
   "metadata": {},
   "source": [
    "4. Write a Python program find largest number in a list?"
   ]
  },
  {
   "cell_type": "code",
   "execution_count": 27,
   "id": "02617453",
   "metadata": {},
   "outputs": [
    {
     "name": "stdout",
     "output_type": "stream",
     "text": [
      "the smaller number is   67883\n"
     ]
    }
   ],
   "source": [
    "list=[50,30,20,56,77,22,4,56,43,2,67883,567,556,8978,764,332,1000]\n",
    "sum=list[0]\n",
    "for i in list:\n",
    "    if sum<i:\n",
    "        sum=i  #  already the value the is 20 and  the change he  vaslue ofthe it .\n",
    "print(\"the smaller number is  \",sum)\n",
    "        "
   ]
  },
  {
   "cell_type": "markdown",
   "id": "298020a4",
   "metadata": {},
   "source": [
    "5. Write a Python program to find second largest number in a list?"
   ]
  },
  {
   "cell_type": "code",
   "execution_count": 35,
   "id": "257fc845",
   "metadata": {},
   "outputs": [
    {
     "name": "stdout",
     "output_type": "stream",
     "text": [
      "the second largest of givenn list is  8978\n"
     ]
    }
   ],
   "source": [
    "list=[50,30,20,56,77,22,4,56,43,2,67883,567,556,8978,764,332,1000]\n",
    "list.sort()  #arrange the value \n",
    "list[2]  # 2 smallest -2 secound largest   or use reverse\n",
    "print(\"the second largest of givenn list is \",list[-2])"
   ]
  },
  {
   "cell_type": "markdown",
   "id": "a574dcce",
   "metadata": {},
   "source": [
    "6. Write a Python program to find N largest elements from a list?\n",
    "\n"
   ]
  },
  {
   "cell_type": "code",
   "execution_count": null,
   "id": "d0f68d47",
   "metadata": {},
   "outputs": [],
   "source": [
    "list=[50,30,20,56,77,22,4,56,43,2,67883,567,556,8978,764,332,1000]"
   ]
  },
  {
   "cell_type": "code",
   "execution_count": 43,
   "id": "33277a0a",
   "metadata": {},
   "outputs": [
    {
     "name": "stdout",
     "output_type": "stream",
     "text": [
      "enter a number where largest element 2\n",
      "[67883, 1000, 567, 332, 56, 50, 30, 20, 2]\n"
     ]
    }
   ],
   "source": [
    "n=int(input(\"enter a number where largest element \"))\n",
    "list.sort()\n",
    "list.reverse()\n",
    "print(list[ : :n])"
   ]
  },
  {
   "cell_type": "markdown",
   "id": "f81fc5a7",
   "metadata": {},
   "source": [
    "7. Write a Python program to print even numbers in a list?"
   ]
  },
  {
   "cell_type": "code",
   "execution_count": 51,
   "id": "bf582804",
   "metadata": {},
   "outputs": [
    {
     "name": "stdout",
     "output_type": "stream",
     "text": [
      "even number is \n",
      "[8978, 1000, 764, 556, 332, 56, 56, 50, 30, 22, 20, 4, 2]\n"
     ]
    }
   ],
   "source": [
    "print('even number is ')\n",
    "print([  i for i in list  if i%2==0])"
   ]
  },
  {
   "cell_type": "markdown",
   "id": "fd9a4eb1",
   "metadata": {},
   "source": [
    "8. Write a Python program to print odd  numbers in a list?"
   ]
  },
  {
   "cell_type": "code",
   "execution_count": 52,
   "id": "bff60543",
   "metadata": {},
   "outputs": [
    {
     "name": "stdout",
     "output_type": "stream",
     "text": [
      "odd number is \n",
      "[67883, 567, 77, 43]\n"
     ]
    }
   ],
   "source": [
    "print('odd number is ')\n",
    "print([  i for i in list  if i%2==1])"
   ]
  },
  {
   "cell_type": "markdown",
   "id": "1b4511c6",
   "metadata": {},
   "source": [
    "9. Write a Python program to Remove  empty List from List?"
   ]
  },
  {
   "cell_type": "code",
   "execution_count": 64,
   "id": "4e4935a6",
   "metadata": {},
   "outputs": [
    {
     "name": "stdout",
     "output_type": "stream",
     "text": [
      "[[50, 30, 20, 56, 77], [12, 12, 12, 12, 12, 12, 12, 12, 12, 12, 12], [], [22, 4, 56, 43, 2, 67883, 567, 556, 8978, 764, 332, 1000]]\n"
     ]
    }
   ],
   "source": [
    "list=[[50,30,20,56,77 ],[12,12,12,12,12,12,12,12,12,12,12], [] ,[22,4,56,43,2,67883,567,556,8978,764,332,1000]]\n",
    "for i in list:\n",
    "    if type(i)==list and i==[]:\n",
    "        list.pop(list.index(i))\n",
    "print(list)"
   ]
  },
  {
   "cell_type": "markdown",
   "id": "bad70b00",
   "metadata": {},
   "source": [
    "10. Write a Python program to Cloning or Copying a list?"
   ]
  },
  {
   "cell_type": "code",
   "execution_count": 67,
   "id": "a4298f02",
   "metadata": {},
   "outputs": [
    {
     "name": "stdout",
     "output_type": "stream",
     "text": [
      "copied list [50, 30, 20, 56, 77, 22, 4, 56, 43, 2, 67883, 567, 556, 8978, 764, 332, 1000]\n"
     ]
    }
   ],
   "source": [
    "list=[50,30,20,56,77,22,4,56,43,2,67883,567,556,8978,764,332,1000]\n",
    "newlist=[]\n",
    "for i in list:\n",
    "    newlist.append(i)\n",
    "print(\"copied list\", newlist)"
   ]
  },
  {
   "cell_type": "markdown",
   "id": "2bc8f750",
   "metadata": {},
   "source": [
    "11. Write a Python program to Count occurrences of an element in a list?"
   ]
  },
  {
   "cell_type": "code",
   "execution_count": 71,
   "id": "39563a20",
   "metadata": {},
   "outputs": [
    {
     "name": "stdout",
     "output_type": "stream",
     "text": [
      "enter a number to seach 77\n",
      "occerrences :  4\n"
     ]
    }
   ],
   "source": [
    "list=[50,30,20,56,77,22,4,56,43,2,67883,567,556,8978,77,77,77,764,332,1000 ,12, 12, 12, 12, 12, 12, 12, 12, 12, 12, 12, 22, 4, 56, 43, 2, 67883, 567, 556, 8978, 764, 332, 1000]\n",
    "count=0\n",
    "n=int(input(\"enter a number to seach \"))\n",
    "for i  in list:\n",
    "    if i==n:\n",
    "        count=count+1\n",
    "print(\"occerrences : \",count)"
   ]
  },
  {
   "cell_type": "code",
   "execution_count": null,
   "id": "3b42d23e",
   "metadata": {},
   "outputs": [],
   "source": []
  }
 ],
 "metadata": {
  "kernelspec": {
   "display_name": "Python 3 (ipykernel)",
   "language": "python",
   "name": "python3"
  },
  "language_info": {
   "codemirror_mode": {
    "name": "ipython",
    "version": 3
   },
   "file_extension": ".py",
   "mimetype": "text/x-python",
   "name": "python",
   "nbconvert_exporter": "python",
   "pygments_lexer": "ipython3",
   "version": "3.9.7"
  }
 },
 "nbformat": 4,
 "nbformat_minor": 5
}
