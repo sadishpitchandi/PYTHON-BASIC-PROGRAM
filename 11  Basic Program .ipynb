{
 "cells": [
  {
   "cell_type": "code",
   "execution_count": null,
   "id": "4e8a521b",
   "metadata": {},
   "outputs": [],
   "source": [
    "## 1. Write a Pyython Program to find words are the given than given string\n",
    "string=input(\"enter a sentence : \")\n",
    "k=int(input(\"enter a length : \"))\n",
    "count=0\n",
    "for i in string.split(' '):\n",
    "    if len(i)>k:\n",
    "        count+=1\n",
    "print(f\"There are {count} weords of length greater {k}\")"
   ]
  },
  {
   "cell_type": "code",
   "execution_count": 18,
   "id": "7052665a",
   "metadata": {},
   "outputs": [
    {
     "name": "stdout",
     "output_type": "stream",
     "text": [
      "enter a sentence : sadish@ data scientists\n",
      "enter a index that you want to remove  : 6\n",
      "new string sadish data scientists:\n"
     ]
    }
   ],
   "source": [
    "## write a python program for removing the ith-charater from the string  ?\n",
    "string=input(\"enter a sentence : \")\n",
    "k=int(input(\"enter a index that you want to remove  : \"))\n",
    "string=string[:k]+string[k+1:]\n",
    "print(f\"new string {string}:\")\n"
   ]
  },
  {
   "cell_type": "code",
   "execution_count": 25,
   "id": "c108293f",
   "metadata": {},
   "outputs": [
    {
     "name": "stdout",
     "output_type": "stream",
     "text": [
      "enter a sentence : iNeuron is a product-driven organisation working on state of the art projects for our domestic and international clients carrying a lot of expertise in product development in the area of Computer vision, Deep learning, NLP, Auto ML and Machine learning with industry expertise in warehousing, Security, Surveillance, Healthcare and Inventory management.  We also have our training academy where we are providing affordable AI education in Deep learning, Machine Learning and NLP.  We at iNeuron believe that just classroom training is not adequate, thus we incorporate theoretical knowledge with hands-on practical exposure via students contribution in our in-house projects providing a deeper and rich learning experience.\n",
      "--------------------------------------------------------\n",
      "['iNeuron', 'is', 'a', 'product-driven', 'organisation', 'working', 'on', 'state', 'of', 'the', 'art', 'projects', 'for', 'our', 'domestic', 'and', 'international', 'clients', 'carrying', 'a', 'lot', 'of', 'expertise', 'in', 'product', 'development', 'in', 'the', 'area', 'of', 'Computer', 'vision,', 'Deep', 'learning,', 'NLP,', 'Auto', 'ML', 'and', 'Machine', 'learning', 'with', 'industry', 'expertise', 'in', 'warehousing,', 'Security,', 'Surveillance,', 'Healthcare', 'and', 'Inventory', 'management.', '', 'We', 'also', 'have', 'our', 'training', 'academy', 'where', 'we', 'are', 'providing', 'affordable', 'AI', 'education', 'in', 'Deep', 'learning,', 'Machine', 'Learning', 'and', 'NLP.', '', 'We', 'at', 'iNeuron', 'believe', 'that', 'just', 'classroom', 'training', 'is', 'not', 'adequate,', 'thus', 'we', 'incorporate', 'theoretical', 'knowledge', 'with', 'hands-on', 'practical', 'exposure', 'via', 'students', 'contribution', 'in', 'our', 'in-house', 'projects', 'providing', 'a', 'deeper', 'and', 'rich', 'learning', 'experience.']\n",
      "  iNeuron is a product-driven organisation working on state of the art projects for our domestic and international clients carrying a lot of expertise in product development in the area of Computer vision, Deep learning, NLP, Auto ML and Machine learning with industry expertise in warehousing, Security, Surveillance, Healthcare and Inventory management.  We also have our training academy where we are providing affordable AI education in Deep learning, Machine Learning and NLP.  We at iNeuron believe that just classroom training is not adequate, thus we incorporate theoretical knowledge with hands-on practical exposure via students contribution in our in-house projects providing a deeper and rich learning experience. iNeuron is a product-driven organisation working on state of the art projects for our domestic and international clients carrying a lot of expertise in product development in the area of Computer vision, Deep learning, NLP, Auto ML and Machine learning with industry expertise in warehousing, Security, Surveillance, Healthcare and Inventory management.  We also have our training academy where we are providing affordable AI education in Deep learning, Machine Learning and NLP.  We at iNeuron believe that just classroom training is not adequate, thus we incorporate theoretical knowledge with hands-on practical exposure via students contribution in our in-house projects providing a deeper and rich learning experience.\n"
     ]
    }
   ],
   "source": [
    "##wtite a python program to split and join a string ?\n",
    "string=input(\"enter a sentence : \")\n",
    "splitted=string.split(' ')\n",
    "print(\"--------------------------------------------------------\")\n",
    "print(splitted)\n",
    "\n",
    "\n",
    "for words in splitted :\n",
    "    joined= ' ' +words\n",
    "print(joined)"
   ]
  },
  {
   "cell_type": "code",
   "execution_count": 53,
   "id": "0c59000c",
   "metadata": {},
   "outputs": [
    {
     "name": "stdout",
     "output_type": "stream",
     "text": [
      "enter a sentence : 01001010101110100100101\n",
      " its binary\n"
     ]
    }
   ],
   "source": [
    "##WRITE A  python program to check if a given string is binary string or not ?\n",
    "#binary take 1 And 0 \n",
    "\n",
    "string=input(\"enter a sentence : \")\n",
    "for i in string :\n",
    "    if i  in ['0','1']:\n",
    "        if len(i)==0:\n",
    "            print(f\"{string}  not binary\")\n",
    "else:\n",
    "    print(\" its binary\")"
   ]
  },
  {
   "cell_type": "code",
   "execution_count": 1,
   "id": "eaa4b56c",
   "metadata": {},
   "outputs": [
    {
     "name": "stdout",
     "output_type": "stream",
     "text": [
      "enter a sentence : ##WRITE A  python program to check if a given string is binary string or not ? #binary take 1 And 0 \n",
      "enter a sentence : ##write a python program to find uncommon words from two strings ?\n",
      "uncommon words from both strings are: ['##WRITE', 'A', '', 'check', 'if', 'given', 'string', 'is', 'binary', 'string', 'or', 'not', '#binary', 'take', '1', 'And', '0', '', '##write', 'find', 'uncommon', 'words', 'from', 'two', 'strings']\n"
     ]
    }
   ],
   "source": [
    "##write a python program to find uncommon words from two strings ?\n",
    "string1=input(\"enter a sentence : \").split(' ')\n",
    "string2=input(\"enter a sentence : \").split(' ')\n",
    "uncommon=[word for word in string1 if word not in string2]\n",
    "uncommon.extend([word for word in string2 if word not in string1])\n",
    "print(f\"uncommon words from both strings are: {uncommon}\")\n"
   ]
  },
  {
   "cell_type": "code",
   "execution_count": 2,
   "id": "fd097920",
   "metadata": {},
   "outputs": [
    {
     "name": "stdout",
     "output_type": "stream",
     "text": [
      "enter a sentence : write a python program to all duplicate character in string\n",
      "{'c', 'h', 't', 'g', ' ', 'a', 'i', 'r', 'o', 'n', 'p', 'e', 'l'}\n"
     ]
    }
   ],
   "source": [
    "##write a python program to all duplicate character in string ?\n",
    "string=input(\"enter a sentence : \") \n",
    "duplicate=set([ c for c in string if string.count(c)>1])\n",
    "print(duplicate)"
   ]
  },
  {
   "cell_type": "code",
   "execution_count": 5,
   "id": "2a7d8644",
   "metadata": {},
   "outputs": [
    {
     "name": "stdout",
     "output_type": "stream",
     "text": [
      "enter a string : shithhoj;@bdj*nbsijhi)gsjh%bsdb8**\n",
      "given stringf contains specials characters \n"
     ]
    }
   ],
   "source": [
    "## 7. wriute a python program to check if a string cvontains in any special characters ?\n",
    "import re\n",
    "string=input(\"enter a string : \")\n",
    "regex=re.compile('[@!#$%^&*()<>?|\\{}]')\n",
    "if(regex.search(string)==None):\n",
    "    print(\"given string does not contain special charcters \")\n",
    "else:\n",
    "    print(\"given stringf contains specials characters \")\n",
    "    "
   ]
  },
  {
   "cell_type": "code",
   "execution_count": null,
   "id": "060daeb0",
   "metadata": {},
   "outputs": [],
   "source": []
  }
 ],
 "metadata": {
  "kernelspec": {
   "display_name": "Python 3 (ipykernel)",
   "language": "python",
   "name": "python3"
  },
  "language_info": {
   "codemirror_mode": {
    "name": "ipython",
    "version": 3
   },
   "file_extension": ".py",
   "mimetype": "text/x-python",
   "name": "python",
   "nbconvert_exporter": "python",
   "pygments_lexer": "ipython3",
   "version": "3.9.12"
  }
 },
 "nbformat": 4,
 "nbformat_minor": 5
}
