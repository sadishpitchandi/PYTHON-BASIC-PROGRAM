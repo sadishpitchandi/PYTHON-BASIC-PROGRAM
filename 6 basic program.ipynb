{
 "cells": [
  {
   "cell_type": "code",
   "execution_count": 19,
   "id": "63824490",
   "metadata": {},
   "outputs": [
    {
     "name": "stdout",
     "output_type": "stream",
     "text": [
      "enter the value :13\n",
      "0\n",
      "1\n",
      "1\n",
      "2\n",
      "3\n",
      "5\n",
      "8\n",
      "13\n",
      "21\n",
      "34\n",
      "55\n",
      "89\n",
      "144\n"
     ]
    }
   ],
   "source": [
    "             '''1.Write a Python Program to Display Fibonacci Sequence Using Recursion?'''\n",
    "'''Recursion is the process of repeating items in a self-similar way. In programming languages, \n",
    "if a program allows you to call a function inside the same function, then it is called a recursive call of the function'''\n",
    "\n",
    "def fib(n):\n",
    "    if n==0:\n",
    "         return 0\n",
    "    elif n==1:\n",
    "        return 1\n",
    "    else:\n",
    "         return fib(n-2)+fib(n-1)  #n=8   6+7  (13 8th elemt is 13)\n",
    "for i in range(13):\n",
    "    print(fib(i))\n",
    "       \n",
    "\n"
   ]
  },
  {
   "cell_type": "code",
   "execution_count": 23,
   "id": "0a2fc9e5",
   "metadata": {},
   "outputs": [
    {
     "data": {
      "text/plain": [
       "120"
      ]
     },
     "execution_count": 23,
     "metadata": {},
     "output_type": "execute_result"
    }
   ],
   "source": [
    "'''2.  Write a Python Program to Find Factorial of Number Using Recursion?'''\n",
    "\n",
    "def recur_factorial(n):  \n",
    "   if n == 1:  \n",
    "       return n  \n",
    "   else:  \n",
    "       return n*recur_factorial(n-1) \n",
    "\n",
    "recur_factorial(5)"
   ]
  },
  {
   "cell_type": "code",
   "execution_count": 29,
   "id": "d7a2302a",
   "metadata": {},
   "outputs": [
    {
     "name": "stdout",
     "output_type": "stream",
     "text": [
      "enter the weight :40\n",
      "enter the height :124\n",
      "unheathly\n"
     ]
    }
   ],
   "source": [
    "'''3. Write a Python Program to calculate your Body Mass Index? '''\n",
    "\n",
    "w=int(input(\"enter the weight :\"))\n",
    "h=float(input(\"enter the height :\"))\n",
    "bmi=w//(h**2)\n",
    "bmi\n",
    "\n",
    "if bmi>23:\n",
    "    print(\" your heathly\")\n",
    "elif bmi<23:\n",
    "    print(\"unheathly\")\n",
    "else:\n",
    "    print(\"your weel\")"
   ]
  },
  {
   "cell_type": "code",
   "execution_count": 41,
   "id": "068f20b9",
   "metadata": {},
   "outputs": [
    {
     "name": "stdout",
     "output_type": "stream",
     "text": [
      "2.979094632400968\n"
     ]
    }
   ],
   "source": [
    "\n",
    "'''4.  Write a Python Program to calculate the natural logarithm  any numbers '''\n",
    "import math\n",
    "print ( math.log(19.67))  #math.log( number and base)\n"
   ]
  },
  {
   "cell_type": "code",
   "execution_count": 5,
   "id": "5f0ca725",
   "metadata": {},
   "outputs": [
    {
     "name": "stdout",
     "output_type": "stream",
     "text": [
      "enter a number :3\n",
      "27\n"
     ]
    }
   ],
   "source": [
    "''' 5.  Write a Python Program for cube sum of first n natural numbers?'''\n",
    "\n",
    "n=int(input(\"enter a number :\"))\n",
    "m=0\n",
    "for i in range(n,n+1):\n",
    "    m=i**3\n",
    "    print(m)"
   ]
  },
  {
   "cell_type": "code",
   "execution_count": 4,
   "id": "b00cf27d",
   "metadata": {},
   "outputs": [
    {
     "name": "stdout",
     "output_type": "stream",
     "text": [
      "enter a number :3\n",
      "27\n"
     ]
    }
   ],
   "source": []
  },
  {
   "cell_type": "code",
   "execution_count": null,
   "id": "9fcc8a2c",
   "metadata": {},
   "outputs": [],
   "source": []
  },
  {
   "cell_type": "code",
   "execution_count": null,
   "id": "5837d7d6",
   "metadata": {},
   "outputs": [],
   "source": []
  }
 ],
 "metadata": {
  "kernelspec": {
   "display_name": "Python 3 (ipykernel)",
   "language": "python",
   "name": "python3"
  },
  "language_info": {
   "codemirror_mode": {
    "name": "ipython",
    "version": 3
   },
   "file_extension": ".py",
   "mimetype": "text/x-python",
   "name": "python",
   "nbconvert_exporter": "python",
   "pygments_lexer": "ipython3",
   "version": "3.9.7"
  }
 },
 "nbformat": 4,
 "nbformat_minor": 5
}
