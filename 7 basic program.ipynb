{
 "cells": [
  {
   "cell_type": "code",
   "execution_count": 8,
   "id": "2060fe11",
   "metadata": {},
   "outputs": [
    {
     "name": "stdout",
     "output_type": "stream",
     "text": [
      "[1, 2, 3, 4] sum is 10\n"
     ]
    }
   ],
   "source": [
    "'''1.  Write a Python Program to find sum of array?'''\n",
    "#import array as arr\n",
    "#a=arr.array(\"i\",[])\n",
    "#k = int(input(\"Enter size of array:\"))\n",
    "#for i in range(0,k):\n",
    "    #num=int(input(\" Enter %d array element are :\" %(i+1)))\n",
    "    #a.append(num)\n",
    "\n",
    "#print(\"All array elements are:\" , end=\"  \" )\n",
    "#for i in a:\n",
    "\n",
    "    #print(i,end =\"  \" )\n",
    "    \n",
    "arr=[1,2,3,4]\n",
    "sum=0\n",
    "for i in range(0, len(arr)):    \n",
    "   sum = sum + arr[i];  \n",
    "print(arr,\"sum is\",sum)"
   ]
  },
  {
   "cell_type": "code",
   "execution_count": 15,
   "id": "ecf770ca",
   "metadata": {},
   "outputs": [
    {
     "name": "stdout",
     "output_type": "stream",
     "text": [
      "the largest vale in the array:  987\n"
     ]
    }
   ],
   "source": [
    "'''2. Write a Python Program to find largest element in an array?'''\n",
    "\n",
    "arr=[10,203,987,22]\n",
    "max=arr[0]\n",
    "for i in range(0,len(arr)):\n",
    "    if(arr[i] > max): \n",
    "        max=arr[i]   # when arr is max its check the nect term so we give this  max =aar[i] its will check 203>10  nect time 203 store in max next 987>203  max is 987\n",
    "print(\"the largest vale in the array: \", max)    "
   ]
  },
  {
   "cell_type": "code",
   "execution_count": 31,
   "id": "e3faec84",
   "metadata": {},
   "outputs": [
    {
     "name": "stdout",
     "output_type": "stream",
     "text": [
      "Arrary before rotation  :\n",
      "[1, 2, 3, 4, 5]\n",
      " array left rotation :\n",
      "3 4 5 1 2 "
     ]
    }
   ],
   "source": [
    "'''3. Write a Python Program for array rotation?'''\n",
    "\n",
    "\n",
    "def arr_rot(arr,l,d) :\n",
    "    \"\"\"Function for array rotation \"\"\"\n",
    "    temp=[]\n",
    "    temp1=[]\n",
    "    for i in range(d,l):\n",
    "        temp.append(arr[i])\n",
    "    i=0\n",
    "    for i in range(0,d) :\n",
    "        temp.append(arr[i])\n",
    "    return temp\n",
    "    \n",
    "\n",
    "         \n",
    "\n",
    "arr=[1,2,3,4,5,6]\n",
    "if len(arr) > 1 :\n",
    "    print(\"Array before rotation : \",arr)\n",
    "    print(\"Array after rotation : \",arr_rot(arr,len(arr),2))\n",
    "\n"
   ]
  },
  {
   "cell_type": "code",
   "execution_count": null,
   "id": "564a95e0",
   "metadata": {},
   "outputs": [],
   "source": [
    "'''4. Write a Python Program to Split the array and add the first part to the end?'''\n",
    "\n",
    "\n",
    "array=[1,2,3,4,5]\n",
    "shift=2               #many of roation\n",
    "\n",
    "def lefrotation(array,shift):\n",
    "    \n",
    "        for i in range(0,shift):   #(0,2)   1  2 3 4 5  (temp=1)  1 shift 2 3 4 5 (1)   2 shift 3 4 5 1 2 \n",
    "            temp=array[0]         #first elemt store in temp variable\n",
    "            for j in range (0,len(array)-1):             #shift remaining array elements one by one towards left\n",
    "                array[j]=array[j+1]             #this will shift all the element  left in left side\n",
    "            array[len(array)-1]=temp            #len array is last ermp it store inn temp\n",
    "        return array\n",
    "    \n",
    "print(\"Arrary before rotation  :\")\n",
    "print(array)\n",
    "q=lefrotation(array,shift)\n",
    "print(\" array left rotation :\")\n",
    "printarray(q)"
   ]
  },
  {
   "cell_type": "code",
   "execution_count": 39,
   "id": "525bdef2",
   "metadata": {},
   "outputs": [
    {
     "name": "stdout",
     "output_type": "stream",
     "text": [
      "False\n"
     ]
    }
   ],
   "source": [
    "'''5. Write a Python Program to check if given array is Monotonic?'''\n",
    "\n",
    "def Monotonic(A):    #An array is said to be monotonic in nature if it is either continuously increasing or continuously decreasing.\n",
    "   return (all(A[i] <= A[i + 1] for i in range(len(A) - 1)) or all(A[i] >= A[i + 1] for i in range(len(A) - 1)))\n",
    " \n",
    "print(Monotonic([5,3,7,1,2,3,2,3,2,1]))    #increasing   A[i] <= A[j].decreasing   A[i] >= A[j]."
   ]
  },
  {
   "cell_type": "code",
   "execution_count": null,
   "id": "d479265e",
   "metadata": {},
   "outputs": [],
   "source": []
  },
  {
   "cell_type": "code",
   "execution_count": null,
   "id": "18968b19",
   "metadata": {},
   "outputs": [],
   "source": []
  },
  {
   "cell_type": "code",
   "execution_count": null,
   "id": "60d63c42",
   "metadata": {},
   "outputs": [],
   "source": []
  }
 ],
 "metadata": {
  "kernelspec": {
   "display_name": "Python 3 (ipykernel)",
   "language": "python",
   "name": "python3"
  },
  "language_info": {
   "codemirror_mode": {
    "name": "ipython",
    "version": 3
   },
   "file_extension": ".py",
   "mimetype": "text/x-python",
   "name": "python",
   "nbconvert_exporter": "python",
   "pygments_lexer": "ipython3",
   "version": "3.9.7"
  }
 },
 "nbformat": 4,
 "nbformat_minor": 5
}
