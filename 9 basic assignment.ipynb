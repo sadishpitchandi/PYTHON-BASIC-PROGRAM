{
 "cells": [
  {
   "cell_type": "markdown",
   "id": "13f6b629",
   "metadata": {},
   "source": [
    "1. Write a Python program to check if the given number is a Disarium Number?"
   ]
  },
  {
   "cell_type": "code",
   "execution_count": 8,
   "id": "5daaa1c9",
   "metadata": {},
   "outputs": [
    {
     "name": "stdout",
     "output_type": "stream",
     "text": [
      "Enter a number to check if it is disarium number : 5432\n",
      " Given a Number 5432 is a  mot a disarium number\n"
     ]
    }
   ],
   "source": [
    "'''1**1 + 7**2 + 5**3 = 1 + 49 + 125 = 175'''\n",
    "\n",
    "num=input(\"Enter a number to check if it is disarium number : \")   #string\n",
    "dis=0  #store \n",
    "for i in range(len(num)):   # string len cannot find  so  str int change\n",
    "    #1**1 + 7**2 + 5**3\n",
    "    dis=dis+int(num[i])**(i+1)   # store  + num is   1**1  + 7**2  ......\n",
    "if num==dis:\n",
    "    print(f\" Given a Number {num} is a disarium number\" )\n",
    "else:\n",
    "     print(f\" Given a Number {num} is a  mot a disarium number\")\n",
    "    "
   ]
  },
  {
   "cell_type": "markdown",
   "id": "7aaf4ebe",
   "metadata": {},
   "source": [
    "2. Write a Python program to print all disarium numbers between 1 to 100?"
   ]
  },
  {
   "cell_type": "code",
   "execution_count": 44,
   "id": "b72c26e7",
   "metadata": {},
   "outputs": [
    {
     "name": "stdout",
     "output_type": "stream",
     "text": [
      "0 1 2 3 4 5 6 7 8 9 89 "
     ]
    }
   ],
   "source": [
    "for i in range (0,101):\n",
    "    num=str(i)\n",
    "    dis=0\n",
    "    for i in range(len(num)):   # string len cannot find  so  str int change\n",
    "                #1**1 + 7**2 + 5**3\n",
    "        dis=dis+int(num[i])**(i+1)   # store  + num is   1**1  + 7**2  ......\n",
    "    if int(num)==dis:\n",
    "             print( num,end= \" \" )"
   ]
  },
  {
   "cell_type": "markdown",
   "id": "665fcc75",
   "metadata": {},
   "source": [
    "3. Write a Python program to check if the given number is Happy Number?"
   ]
  },
  {
   "cell_type": "code",
   "execution_count": null,
   "id": "7e5b2e36",
   "metadata": {},
   "outputs": [],
   "source": [
    "def ishappy(num):\n",
    "    remainder=0      #inisiziled\n",
    "    digitsquaresum=0 \n",
    "    while(num>0):     # 13>0      #  1>0\n",
    "        remainder=num%10   #13%10  is 3    # 1%10  1\n",
    "        digitsquaressum=digitsquaresum+(remainder*remainder)  # 0+(3*3)  9 #  9+(1*1)  10\n",
    "        num=num//10    #13//10  is 1  loop entrer again  num=1  #1//10  is  0  end the loop\n",
    "    return digitsquaresum       #res=9  \n",
    "n=int(input(\"enter the number : \"))\n",
    "result=n\n",
    "while(result!=1 and result!=4):  #both are true it excute   .. not 1 and 4 . if its 1 its excute \n",
    "    result=ishappy(result)\n",
    "if(result==1):\n",
    "    print(\"the given\", n,\"is a happy number\")\n",
    "if(result==4):\n",
    "    print(\"the given\", n,\"is a unhappy number\")\n",
    "    \n",
    "    \n",
    "    \n",
    "    #13 1is (1,3)   1^2 + 3^2== 1+9=10  10  1^2+0^2 is 1  end number is 1 is happy"
   ]
  },
  {
   "cell_type": "markdown",
   "id": "389a23b8",
   "metadata": {},
   "source": [
    "4. Write a Python program to print all happy numbers between 1 and 100?"
   ]
  },
  {
   "cell_type": "code",
   "execution_count": null,
   "id": "aa1bfaed",
   "metadata": {},
   "outputs": [],
   "source": [
    "def ishappy(num):\n",
    "    remainder=0\n",
    "    digitsquaresum=0\n",
    "    while(num>0):\n",
    "        remainder=num%10\n",
    "        digitsquaressum=digitsquaresum+(remainder*remainder)\n",
    "        num=num//10\n",
    "    return digitsquaresum\n",
    "\n",
    "for i in range(1, 101):  \n",
    "    result = i \n",
    "while(result!=1 and result!=4):\n",
    "    result=ishappy(result)\n",
    "if(result == 1):  \n",
    "        print(i)  \n",
    "        print(\" \") "
   ]
  },
  {
   "cell_type": "markdown",
   "id": "1b93def0",
   "metadata": {},
   "source": [
    "5. Write a Python program to determine whether the given number is a Harshad Number?"
   ]
  },
  {
   "cell_type": "code",
   "execution_count": null,
   "id": "183464b0",
   "metadata": {},
   "outputs": [],
   "source": [
    "'''A number is said to be the Harshad number if it is divisible  by the sum of its digit.'''\n",
    "'''if number is 156, then sum of its digit will be 1 + 5 + 6 = 12. Since 156 is divisible by 12. So, 156 is a Harshad number.'''\n",
    "num = 156  \n",
    "rem =  0 \n",
    "sum =0\n",
    "   \n",
    "while(num > 0):  #156  >0    #15>0    # 1>0\n",
    "    rem = num%10;     # 156%10   rem is 6       15%10  is 5 rem  1%10  is 1\n",
    "    sum = sum + rem;  #  0+6  sum=6      6+5=11 sum   11+1  =12 sum    last sum is 12\n",
    "    num = num//10;    #   156//10  is 15   15//10  is 1     1//10   0 loop end \n",
    "   \n",
    "if(num%sum == 0):    #156%12  is divi its harshed  is not  not harshed\n",
    "    print(num ,\" is a harshad number\");  \n",
    "else:  \n",
    "    print(num , \" is not a harshad number\");  \n"
   ]
  },
  {
   "cell_type": "markdown",
   "id": "0144d220",
   "metadata": {},
   "source": [
    "6. Write a Python program to print all pronic numbers between 1 and 100?\n"
   ]
  },
  {
   "cell_type": "code",
   "execution_count": null,
   "id": "c1a66b2a",
   "metadata": {},
   "outputs": [],
   "source": [
    "'''The pronic number is a product of two consecutive integers of the form: n(n+1)'''\n",
    "def isPronicNumber(num):    \n",
    "    flag = False;       # flag is used for only the while loop when ists true tthe loop end \n",
    "    for i in range(1, num+1):    \n",
    "           if((i*(i+1)) == num):    #6 = 2(2+1)= n(n+1),\n",
    "              flag = True;    \n",
    "               break;    \n",
    "    return flag;    \n",
    "     \n",
    "  \n",
    "print(\"Pronic numbers between 1 and 100: \");    \n",
    "for i in range(1, 101):    \n",
    "    if(isPronicNumber(i)):    \n",
    "        print(i),    \n",
    "        print(\" \"),  "
   ]
  },
  {
   "cell_type": "code",
   "execution_count": null,
   "id": "01ca4c8d",
   "metadata": {},
   "outputs": [],
   "source": []
  }
 ],
 "metadata": {
  "kernelspec": {
   "display_name": "Python 3 (ipykernel)",
   "language": "python",
   "name": "python3"
  },
  "language_info": {
   "codemirror_mode": {
    "name": "ipython",
    "version": 3
   },
   "file_extension": ".py",
   "mimetype": "text/x-python",
   "name": "python",
   "nbconvert_exporter": "python",
   "pygments_lexer": "ipython3",
   "version": "3.9.7"
  }
 },
 "nbformat": 4,
 "nbformat_minor": 5
}
