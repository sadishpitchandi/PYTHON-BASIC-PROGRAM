{
 "cells": [
  {
   "cell_type": "code",
   "execution_count": 11,
   "id": "23a43ace",
   "metadata": {},
   "outputs": [
    {
     "name": "stdout",
     "output_type": "stream",
     "text": [
      "give a number  7\n",
      "the number is positive\n"
     ]
    }
   ],
   "source": [
    "'''1. Write a Python Program to Check if a Number is Positive, Negative or Zero?'''\n",
    "\n",
    "a=int(input(\"give a number  \"))\n",
    "if a<0:\n",
    "    print(\"the number is negative\")\n",
    "elif a>0:\n",
    "    print(\"the number is positive\")\n",
    "else:\n",
    "    print(\"the number is zero\")"
   ]
  },
  {
   "cell_type": "code",
   "execution_count": 9,
   "id": "38eeb6ef",
   "metadata": {},
   "outputs": [
    {
     "name": "stdout",
     "output_type": "stream",
     "text": [
      "give a number  2\n",
      "the number is even\n"
     ]
    }
   ],
   "source": [
    "'''2. Write a Python Program to Check if a Number is Odd or Even?'''\n",
    "\n",
    "a=int(input(\"give a number  \"))\n",
    "if (a%2)==0:\n",
    "    print(\"the number is even\")\n",
    "else:\n",
    "    print(\"the number is odd\")\n"
   ]
  },
  {
   "cell_type": "code",
   "execution_count": 12,
   "id": "7f90d064",
   "metadata": {},
   "outputs": [
    {
     "name": "stdout",
     "output_type": "stream",
     "text": [
      "Given Year is a leap Year\n"
     ]
    }
   ],
   "source": [
    "\"\"\"3.Write a Python Program to Check Leap Year?\"\"\"\n",
    "Year=2020\n",
    "#Year = int(input(\"Enter the number: \"))    \n",
    "if(Year % 4 == 0):\n",
    "    \"\"\"If a year is evenly divisible by 4 means having no remainder then go to next step. If it is not divisible by 4. It is not a leap year.\"\"\"\n",
    "    print(\"Given Year is a leap Year\");  \n",
    "    \n",
    "else:  \n",
    "    print (\"Given Year is not a leap Year\")  \n",
    " \n",
    "  \n",
    "  "
   ]
  },
  {
   "cell_type": "code",
   "execution_count": 7,
   "id": "3e8b739a",
   "metadata": {},
   "outputs": [
    {
     "name": "stdout",
     "output_type": "stream",
     "text": [
      "Enter an input number:7\n",
      "7 is a prime number\n"
     ]
    }
   ],
   "source": [
    "'''4. Write a Python Program to Check Prime Number?'''\n",
    "\n",
    "def PrimeChecker(a):  \n",
    "      \n",
    "    if a > 1:  \n",
    "         \n",
    "        for j in range(2, int(a/2) + 1):  \n",
    "\n",
    "\n",
    "\n",
    "       # If the given number is divisible or not  \n",
    "            if (a % j) == 0:  \n",
    "                print(a, \"is not a prime number\")  \n",
    "                break  \n",
    "        # Else it is a prime number  \n",
    "        else:  \n",
    "            print(a, \"is a prime number\")  \n",
    "    # If the given number is 1  \n",
    "    else:  \n",
    "        print(a, \"is not a prime number\")  \n",
    "# Taking an input number from the user  \n",
    "a = int(input(\"Enter an input number:\"))  \n",
    "# Printing result  \n",
    "PrimeChecker(a)  "
   ]
  },
  {
   "cell_type": "code",
   "execution_count": 9,
   "id": "fc94fe96",
   "metadata": {},
   "outputs": [
    {
     "name": "stdout",
     "output_type": "stream",
     "text": [
      "Please, Enter the Lowest Range Value: 1\n",
      "Please, Enter the Upper Range Value: 9\n",
      "The Prime Numbers in the range are: \n",
      "2\n",
      "3\n",
      "5\n",
      "7\n"
     ]
    }
   ],
   "source": [
    "lower_value = int(input (\"Please, Enter the Lowest Range Value: \"))  \n",
    "upper_value = int(input (\"Please, Enter the Upper Range Value: \"))  \n",
    "'''5. Write a Python Program to Print all Prime Numbers in an Interval of 1-10000? '''\n",
    "print (\"The Prime Numbers in the range are: \")  \n",
    "for number in range (lower_value, upper_value + 1):  \n",
    "    if number > 1:  \n",
    "        for i in range (2, number):  \n",
    "            if (number % i) == 0:  \n",
    "                break  \n",
    "        else:  \n",
    "            print ( number)  \n",
    "            \n",
    "#please, Enter the Lowest Range Value: 0\n",
    "#Please, Enter the Upper Range Value: 1000"
   ]
  },
  {
   "cell_type": "code",
   "execution_count": null,
   "id": "70a33996",
   "metadata": {},
   "outputs": [],
   "source": []
  }
 ],
 "metadata": {
  "kernelspec": {
   "display_name": "Python 3 (ipykernel)",
   "language": "python",
   "name": "python3"
  },
  "language_info": {
   "codemirror_mode": {
    "name": "ipython",
    "version": 3
   },
   "file_extension": ".py",
   "mimetype": "text/x-python",
   "name": "python",
   "nbconvert_exporter": "python",
   "pygments_lexer": "ipython3",
   "version": "3.9.7"
  }
 },
 "nbformat": 4,
 "nbformat_minor": 5
}
