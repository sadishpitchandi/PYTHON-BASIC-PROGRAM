{
 "cells": [
  {
   "cell_type": "code",
   "execution_count": null,
   "id": "88a83223",
   "metadata": {},
   "outputs": [],
   "source": [
    "num=int(input(\"enter a number :\"))\n",
    "fact=1\n",
    "\n",
    "\"\"\"'''1. Write a Python Program to Find the Factorial of a Number?'''\"\"\"\n",
    "\n",
    "#7=7*6*5*4*3*2*1\n",
    "for i in range(num,0,-1):\n",
    "    fact=fact*i\n",
    "    print(i)\n",
    "print(\"the FACTORIAL of {} : {}\".format(num,fact))\n",
    "\n",
    "\n",
    "\n",
    "#import math\n",
    "#num = input(\"Enter a number: \")\n",
    "#print(\"The factorial of \", num, \" is : \")\n",
    "#print(math.factorial(int(num)))"
   ]
  },
  {
   "cell_type": "code",
   "execution_count": null,
   "id": "ab6e2334",
   "metadata": {},
   "outputs": [],
   "source": [
    "'''2. Write a Python Program to Display the multiplication table '''\n",
    "\n",
    "start=int(input(\"enter the starting table :  \"))\n",
    "end=int(input(\"enter the ending table   :  \"))\n",
    "for i in range(start,end):\n",
    "    for j in range(0,13):\n",
    "        #12*1=12\n",
    "        #i*j=i*j\n",
    "        print(i,\"*\",j,\"=\",i*j)\n",
    "    print(\" THE NEXT TABLE IS\")\n",
    "    \n",
    "#enter the starting table :  1\n",
    "#enter the ending table   :  12"
   ]
  },
  {
   "cell_type": "code",
   "execution_count": null,
   "id": "e993d0dc",
   "metadata": {},
   "outputs": [],
   "source": [
    "'''3.Write a Python Program to Print the Fibonacci sequence?'''\n",
    "\n",
    "#0,1  DEAFAULT   0+1=1, 1+1=2, 1+2=3, 2+3=5, 3+5=8,......\n",
    "#stating is o or zero\n",
    "first_num=0\n",
    "second_num=1\n",
    "num=int(input(\"enter the range \"))\n",
    "for i in range(0,num):\n",
    "    \n",
    "                #    1    =     0    +    1\n",
    "                #    8    =     3    +    5\n",
    "                #last num =  first   +   secod\n",
    "    last_num=first_num+second_num\n",
    "    #first_num=second_num   #  3=5\n",
    "    #second_num=last_num   #  5=8\n",
    "    \n",
    "    first_num,second_num=second_num,last_num\n",
    "    print (i,  last_num)"
   ]
  },
  {
   "cell_type": "code",
   "execution_count": 8,
   "id": "cd39abe2",
   "metadata": {},
   "outputs": [
    {
     "name": "stdout",
     "output_type": "stream",
     "text": [
      "enter the number 456\n",
      "the number  is not armstrong\n"
     ]
    }
   ],
   "source": [
    "'''4.Write a Python Program to Check Armstrong Number?'''\n",
    "\n",
    "#153=1^3+5^3+3^3\n",
    "\n",
    "num=int(input(\"enter the number \"))\n",
    "arm=0                   # inital i have to value about armstrom so keeq it zero\n",
    "temp=num                #given input i store in one variable like (temp=153) \n",
    "while temp>0:        #    condtion check it temp>0  yes 153>0  its +ve\n",
    "    digit=temp%10       #    temp its remainder  take   152%10   rem is 3  dight=3..\n",
    "    arm=arm+digit**3    #    arm=0  0 +  3^2     arm=27..\n",
    "    temp=temp//10       #    temp 153    153 divi by 10   q=15   \n",
    "                               ##given 15 is check by temp>0  again doing same   15%10    is rem 5  digit is 5  arm is 27\n",
    "                               ##27+5^3  is 152   and  temp div by 10  is  15 div 10  is q=1   and again check 1>0  digit =1\n",
    "                               ## arm=152   152+1   =153    tmep=1 div 10  q=0   0>0 loop termiavte\n",
    "if num==arm:\n",
    "    print(num,\" the number  is armstrong\")\n",
    "else:\n",
    "    print(\"the number  is not armstrong\")\n",
    "    "
   ]
  },
  {
   "cell_type": "code",
   "execution_count": null,
   "id": "4cd75ae8",
   "metadata": {},
   "outputs": [],
   "source": [
    "'''5. Write a Python Program to Find Armstrong Number in an Interval?'''\n",
    "\n",
    "\n",
    "start=int(input(\"enter the starting  :  \"))\n",
    "end=int(input(\"enter the ending    :  \"))\n",
    "for num in range(start,end+1):\n",
    "    arm=0                  \n",
    "    temp=num               \n",
    "    while temp>0:        \n",
    "        digit=temp%10       \n",
    "        arm=arm+digit**3    \n",
    "        temp=temp//10       \n",
    "        if num==arm:\n",
    "            print(num,\" the number  is armstrong\")\n",
    "        else:\n",
    "            print(num,\"not armstrong\")\n",
    "    \n",
    "\n"
   ]
  },
  {
   "cell_type": "code",
   "execution_count": null,
   "id": "0975dc8f",
   "metadata": {},
   "outputs": [],
   "source": [
    "'''6. Write a Python Program to Find the Sum of Natural number'''\n",
    "\n",
    "num=int(input(\"enter the number  :\")) \n",
    "sum=0\n",
    "for i in range(1,num+1):\n",
    "    sum=sum+i\n",
    "print(sum)\n",
    "\n",
    "\n",
    "#n=int(input(\"enter the number  :\"))\n",
    "#sum=n*((n+1))//2\n",
    "#print(sum)\n",
    "\n",
    "\n",
    "\n",
    "#num = int(input(\"Enter a number: \"))\n",
    "#i=1\n",
    "#sum=0\n",
    "#while i<num:\n",
    "    \n",
    "    #sum=sum+i\n",
    "    #i=i+1\n",
    "#print(i)"
   ]
  },
  {
   "cell_type": "code",
   "execution_count": null,
   "id": "76ea7311",
   "metadata": {},
   "outputs": [],
   "source": []
  },
  {
   "cell_type": "code",
   "execution_count": null,
   "id": "a14c4210",
   "metadata": {},
   "outputs": [],
   "source": []
  },
  {
   "cell_type": "code",
   "execution_count": null,
   "id": "bef226d6",
   "metadata": {},
   "outputs": [],
   "source": []
  },
  {
   "cell_type": "code",
   "execution_count": null,
   "id": "c69706a8",
   "metadata": {},
   "outputs": [],
   "source": []
  }
 ],
 "metadata": {
  "kernelspec": {
   "display_name": "Python 3 (ipykernel)",
   "language": "python",
   "name": "python3"
  },
  "language_info": {
   "codemirror_mode": {
    "name": "ipython",
    "version": 3
   },
   "file_extension": ".py",
   "mimetype": "text/x-python",
   "name": "python",
   "nbconvert_exporter": "python",
   "pygments_lexer": "ipython3",
   "version": "3.9.7"
  }
 },
 "nbformat": 4,
 "nbformat_minor": 5
}
