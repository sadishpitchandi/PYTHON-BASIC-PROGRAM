{
 "cells": [
  {
   "cell_type": "code",
   "execution_count": null,
   "id": "0097ec7e",
   "metadata": {},
   "outputs": [],
   "source": [
    "'''6.Write a Python Program to Find LCM?'''\n",
    "\n",
    "\n",
    "a=int(input(\"enter the number \"))\n",
    "b=int(input(\"enter the number \"))\n",
    "\n",
    "if a>b:                                        # always in lcm 2,3  3 is lcm or greater than 3 we get the lcm so we checck the condition \n",
    "    graeter=a\n",
    "else:\n",
    "    greater=b                                  # if the greater value is 3 is excute\n",
    "    value=greater                              #take one temp varible like value   now valure=36  always  and graeter also 36 \n",
    "    while(True):                               # true is the infinate we want check infinite of the number when we get the require value and we will the break\n",
    "        if greater%a==0 and greater%b==0 :     #greater 3 check the remberer  case 1 o and 1  flase  we check mutiplr we get 1 and 1 its true value is printed and break when its ture\n",
    "            \n",
    "            print(greater)\n",
    "            break\n",
    "        else:\n",
    "            greater=greater+value              #greater =36  constat value=36 36+36   and next time 72+36    gre+gre is given we 72+72  so we chose emp and store constant value\n",
    "            \n",
    "            \n",
    "#use math module            \n",
    "#import math\n",
    "#math.lcm(35,78)\n",
    "    "
   ]
  },
  {
   "cell_type": "code",
   "execution_count": 23,
   "id": "56974b95",
   "metadata": {},
   "outputs": [
    {
     "data": {
      "text/plain": [
       "2"
      ]
     },
     "execution_count": 23,
     "metadata": {},
     "output_type": "execute_result"
    }
   ],
   "source": [
    "'''3.  Write a Python Program to Find HCF?'''\n",
    "\n",
    "#import math\n",
    "#math.gcd(4,18)\n",
    "\n",
    "\n",
    "\n",
    "#a=int(input(\"enter the number \"))\n",
    "#b=int(input(\"enter the number \"))\n",
    "\n",
    "#if a>b:                                      \n",
    "   # lesser=b\n",
    "#else:\n",
    "    #lesser=a                                \n",
    "                                   \n",
    "    ##for i in range(1,lesser+1):                          \n",
    "      #  if ((a%i==0) and (b%i==0)) :     \n",
    "       #     hcf=i\n",
    "   # print(hcf)\n",
    "            \n",
    "        \n",
    "def gcd(a,b):        #using euclids   64=48*x+rem   64=48*1=16     48=16*3+0       16=0\n",
    "                                     # a=b  +  a%b             (a=b)=(a%b)=b        a=b    a is hcf when we get last when b=0\n",
    "  if b==0:                       #b=0 we get hcf as A\n",
    "         return a\n",
    "  else:\n",
    "        return gcd(b,a%b)       # we use a=b  and b=a%b  swiftig opertion\n",
    "\n",
    "gcd(4,18)\n"
   ]
  },
  {
   "cell_type": "code",
   "execution_count": 46,
   "id": "f9c0e900",
   "metadata": {},
   "outputs": [
    {
     "name": "stdout",
     "output_type": "stream",
     "text": [
      "enter the  decimal  number5\n",
      "coverting  0b101 binary 0o5 octal 0x5 dexadcimal \n"
     ]
    }
   ],
   "source": [
    "'''3. Write a Python Program to Convert Decimal to Binary, Octal and Hexadecimal?'''\n",
    "\n",
    "decimal=int(input(\"enter the  decimal  number\"))\n",
    "if decimal:\n",
    "\n",
    "    print(\"coverting \",bin(decimal) ,\"binary\" ,oct(decimal),\"octal\", hex(decimal),\"dexadcimal \")"
   ]
  },
  {
   "cell_type": "markdown",
   "id": "b05ce0e0",
   "metadata": {},
   "source": [
    "##### "
   ]
  },
  {
   "cell_type": "code",
   "execution_count": 50,
   "id": "a0bb6b28",
   "metadata": {},
   "outputs": [
    {
     "name": "stdout",
     "output_type": "stream",
     "text": [
      "enter the string  :  i\n",
      "the ASCII value of a character i 105\n"
     ]
    }
   ],
   "source": [
    "'''4.Write a Python Program To Find ASCII value of a character?'''    #ord()\n",
    "\n",
    "a=input(\"enter the string  :  \")\n",
    "for i in a:\n",
    "    print(\"the ASCII value of a character\",  i, ord(i))\n",
    "#sadish "
   ]
  },
  {
   "cell_type": "code",
   "execution_count": 51,
   "id": "fa4cc9da",
   "metadata": {},
   "outputs": [
    {
     "name": "stdout",
     "output_type": "stream",
     "text": [
      "enter the number 5\n",
      "enter the number 5\n",
      "the addition two number is 10\n",
      "the subration two number is 0\n",
      "the multpilication two number is 25\n",
      "the divition two number is 1\n"
     ]
    }
   ],
   "source": [
    "'''5. Write a Python Program to Make a Simple Calculator with 4 basic mathematical operations?'''\n",
    "\n",
    "\n",
    "a=int(input(\"enter the number \"))\n",
    "b=int(input(\"enter the number \"))\n",
    "add=a+b\n",
    "sub=a-b\n",
    "mult=a*b\n",
    "div=a//b\n",
    "print(\"the addition two number is\",add)\n",
    "print(\"the subration two number is\",sub)\n",
    "print(\"the multpilication two number is\",mult)\n",
    "print(\"the divition two number is\",div)"
   ]
  },
  {
   "cell_type": "code",
   "execution_count": null,
   "id": "36d1cadd",
   "metadata": {},
   "outputs": [],
   "source": []
  }
 ],
 "metadata": {
  "kernelspec": {
   "display_name": "Python 3 (ipykernel)",
   "language": "python",
   "name": "python3"
  },
  "language_info": {
   "codemirror_mode": {
    "name": "ipython",
    "version": 3
   },
   "file_extension": ".py",
   "mimetype": "text/x-python",
   "name": "python",
   "nbconvert_exporter": "python",
   "pygments_lexer": "ipython3",
   "version": "3.9.7"
  }
 },
 "nbformat": 4,
 "nbformat_minor": 5
}
