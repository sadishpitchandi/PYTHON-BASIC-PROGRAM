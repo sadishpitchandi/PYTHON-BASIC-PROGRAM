{
 "cells": [
  {
   "cell_type": "code",
   "execution_count": 30,
   "id": "8e1400ea",
   "metadata": {},
   "outputs": [
    {
     "ename": "NameError",
     "evalue": "name 'database_account' is not defined",
     "output_type": "error",
     "traceback": [
      "\u001b[1;31m---------------------------------------------------------------------------\u001b[0m",
      "\u001b[1;31mNameError\u001b[0m                                 Traceback (most recent call last)",
      "Input \u001b[1;32mIn [30]\u001b[0m, in \u001b[0;36m<cell line: 9>\u001b[1;34m()\u001b[0m\n\u001b[0;32m      7\u001b[0m \u001b[38;5;28;01mdef\u001b[39;00m \u001b[38;5;21mview\u001b[39m(): \n\u001b[0;32m      8\u001b[0m     lb\u001b[38;5;241m.\u001b[39mdelete(\u001b[38;5;241m0\u001b[39m,END)\n\u001b[1;32m----> 9\u001b[0m \u001b[38;5;28;01mfor\u001b[39;00m row \u001b[38;5;129;01min\u001b[39;00m \u001b[43mdatabase_account\u001b[49m\u001b[38;5;241m.\u001b[39mviewall():\n\u001b[0;32m     10\u001b[0m     lb\u001b[38;5;241m.\u001b[39minsert(END, row)\n\u001b[0;32m     12\u001b[0m \u001b[38;5;28;01mdef\u001b[39;00m \u001b[38;5;21msearch\u001b[39m():\n",
      "\u001b[1;31mNameError\u001b[0m: name 'database_account' is not defined"
     ]
    }
   ],
   "source": [
    "from tkinter import *\n",
    "from tkinter import messagebox\n",
    "from databases  import Database\n",
    "\n",
    " \n",
    " \n",
    "def view(): \n",
    "    lb.delete(0,END)\n",
    "for row in database_account.viewall():\n",
    "    lb.insert(END, row)\n",
    " \n",
    "def search():\n",
    "    lb.delete(0, END)\n",
    "for row in database_account.search(firstname=firstname.get(), lastname=lastname.get(), username=username.get(), password=password.get(), position=position.get()):\n",
    "    lb.insert(END, row)\n",
    " \n",
    "def add():\n",
    "    database_account.add(firstname.get(), lastname.get(), username.get(), password.get(), position.get(), date.get())\n",
    "    messagebox.showinfo(\"Add\", \"New Account Added Successfully\")\n",
    "    lb.delete(0, END)\n",
    "    lb.insert(END, firstname.get(), lastname.get(), username.get(), password.get(), position.get(), date.get())\n",
    " \n",
    "def get_selected_row(event):\n",
    "    try:\n",
    "        global selected_tuple\n",
    "        index = lb.curselection()[0]\n",
    "        selected_tuple = lb.get(index)\n",
    "        EntryFirstName.delete(0,END)\n",
    "        EntryFirstName.insert(END,selected_tuple[1])\n",
    " \n",
    "        EntryLastName.delete(0,END)\n",
    "        EntryLastName.insert(END,selected_tuple[2])\n",
    " \n",
    "        EntryUsername.delete(0,END)\n",
    "        EntryUsername.insert(END,selected_tuple[3])\n",
    " \n",
    "        EntryPassword.delete(0,END)\n",
    "        EntryPassword.insert(END,selected_tuple[4])\n",
    " \n",
    "        EntryPosition.delete(0,END)\n",
    "        EntryPosition.insert(END,selected_tuple[5])\n",
    " \n",
    "        EntryDate.delete(0, END)\n",
    "        EntryDate.insert(END, selected_tuple[6])\n",
    "        \n",
    "    except IndexError:\n",
    "        pass\n",
    " \n",
    "def update():\n",
    "    database_account.update(selected_tuple[0], firstname.get(), lastname.get(), username.get(), password.get(), position.get(), date.get())\n",
    "    messagebox.showinfo(\"Update\", \"Account Has Been Updated Successfully\")\n",
    "    view()\n",
    " \n",
    "def delete():\n",
    "    database_account.delete(selected_tuple[0])\n",
    "    messagebox.showinfo(\"Delete Account\", 'Account Has Been Deleted Successfully')\n",
    "    view()\n",
    "#lb.delete(END,get_selected_row.selected_tuple)\n",
    "def clear():\n",
    "    lb.delete(0,END)\n",
    "    EntryFirstName.delete(0,END)\n",
    "    EntryLastName.delete(0,END)\n",
    "    EntryUsername.delete(0,END)\n",
    "    EntryPassword.delete(0,END)\n",
    "    EntryPosition.delete(0,END)\n",
    "    EntryDate.delete(0, END)\n",
    " \n",
    "    window = Tk()\n",
    "    window.title(\"Account Management System\")\n",
    "    window.config(bg=\"navajo white\")\n",
    "    window.geometry('1350x750')\n",
    "lblfirstname = Label(window, text=\"First Name\", font=(\"Calibri\", 14, \"bold\"), fg=\"black\", bg=\"navajo white\")\n",
    "lblfirstname.grid(row=0, column=0, columnspan=2)\n",
    " \n",
    "lbllastname = Label(window,text=\"Last Name\", font=(\"Calibri\", 14, \"bold\"), fg=\"black\", bg=\"navajo white\")\n",
    "lbllastname.grid(row=1,column=0,columnspan=2)\n",
    " \n",
    "lblusername = Label(window,text=\"Username\", font=(\"Calibri\", 14, \"bold\"), fg=\"black\", bg=\"navajo white\")\n",
    "lblusername.grid(row=2,column=0,columnspan=2)\n",
    " \n",
    "lblpassword = Label(window, text=\"Password\", font=(\"Calibri\", 14, \"bold\"), fg=\"black\", bg=\"navajo white\")\n",
    "lblpassword.grid(row=3, column=0, columnspan=2)\n",
    " \n",
    "lblposition = Label(window,text=\"Position\", font=(\"Calibri\", 14, \"bold\"), fg=\"black\", bg=\"navajo white\")\n",
    "lblposition.grid(row=4,column=0,columnspan=2)\n",
    " \n",
    "lbldate = Label(window,text=\"Date\", font=(\"Calibri\", 14, \"bold\"), fg=\"black\", bg=\"navajo white\")\n",
    "lbldate.grid(row=5,column=0,columnspan=2)\n",
    " \n",
    "firstname=StringVar()\n",
    "EntryFirstName = Entry(window,textvariable=firstname, font=(\"Calibri\", 14, \"italic\"), width=30)\n",
    "EntryFirstName.grid(row=0,column=0,columnspan=10)\n",
    " \n",
    "lastname=StringVar()\n",
    "EntryLastName = Entry(window,textvariable=lastname, font=(\"Calibri\", 14, \"italic\"), width=30)\n",
    "EntryLastName.grid(row=1,column=0,columnspan=10)\n",
    " \n",
    "username=StringVar()\n",
    "EntryUsername = Entry(window,textvariable=username, font=(\"Calibri\", 14, \"italic\"), width=30)\n",
    "EntryUsername.grid(row=2,column=0,columnspan=10)\n",
    " \n",
    "password=StringVar()\n",
    "EntryPassword = Entry(window,textvariable=password, font=(\"Calibri\", 14, \"italic\"), width=30)\n",
    "EntryPassword.grid(row=3,column=0,columnspan=10)\n",
    " \n",
    "position=StringVar()\n",
    "EntryPosition = Entry(window,textvariable=position, font=(\"Calibri\", 14, \"italic\"), width=30)\n",
    "EntryPosition.grid(row=4,column=0,columnspan=10)\n",
    " \n",
    "date = StringVar()\n",
    "EntryDate = Entry(window,textvariable=date, font=(\"Calibri\", 14, \"italic\"), width=30)\n",
    "EntryDate.grid(row=5,column=0,columnspan=10)\n",
    " \n",
    "AddButton = Button(window,text=\"Add\",width=12,command=add, font=(\"Calibri\", 10, \"italic\"), fg=\"black\", bg=\"navajo white\", relief=RIDGE, bd=10)\n",
    "AddButton.grid(row=6,column=0)\n",
    " \n",
    "UpdateButton = Button(window,text=\"Update\",width=12,command=update, font=(\"Calibri\", 10, \"italic\"), fg=\"black\", bg=\"navajo white\", relief=RIDGE, bd=10)\n",
    "UpdateButton.grid(row=6,column=1)\n",
    " \n",
    "SearchButton = Button(window,text=\"Search\",width=12,command=search, font=(\"Calibri\", 10, \"italic\"), fg=\"black\", bg=\"navajo white\", relief=RIDGE, bd=10)\n",
    "SearchButton.grid(row=6,column=2)\n",
    " \n",
    "ViewAllButton = Button(window,text=\"View All\",width=12,command=view, font=(\"Calibri\", 10, \"italic\"), fg=\"black\", bg=\"navajo white\", relief=RIDGE, bd=10)\n",
    "ViewAllButton.grid(row=6,column=3)\n",
    " \n",
    "DeleteButton = Button(window,text=\"Delete\",width=12,command=delete, font=(\"Calibri\", 10, \"italic\"), fg=\"black\", bg=\"navajo white\", relief=RIDGE, bd=10)\n",
    "DeleteButton.grid(row=6,column=4)\n",
    " \n",
    "ClearAllButton = Button(window,text=\"Clear All\",width=12,command=clear, font=(\"Calibri\", 10, \"italic\"), fg=\"black\", bg=\"navajo white\", relief=RIDGE, bd=10)\n",
    "ClearAllButton.grid(row=6,column=5)\n",
    " \n",
    "lb=Listbox(window,height=20,width=94)\n",
    "lb.grid(row=7,column=0,columnspan=6)\n",
    " \n",
    "sb=Scrollbar(window)\n",
    "sb.grid(row=7,column=6,rowspan=6)\n",
    " \n",
    "lb.configure(yscrollcommand=sb.set)\n",
    "sb.configure(command=lb.yview)\n",
    " \n",
    "lb.bind('&lt;&lt;ListboxSelect&gt;&gt;',get_selected_row)\n",
    "window.mainloop()\n",
    "\n"
   ]
  },
  {
   "cell_type": "code",
   "execution_count": 3,
   "id": "3abe79f0",
   "metadata": {},
   "outputs": [],
   "source": [
    "from tkinter import *\n",
    "from tkinter import messagebox\n"
   ]
  },
  {
   "cell_type": "code",
   "execution_count": 4,
   "id": "9ea018d8",
   "metadata": {},
   "outputs": [
    {
     "ename": "ModuleNotFoundError",
     "evalue": "No module named 'database_account'",
     "output_type": "error",
     "traceback": [
      "\u001b[1;31m---------------------------------------------------------------------------\u001b[0m",
      "\u001b[1;31mModuleNotFoundError\u001b[0m                       Traceback (most recent call last)",
      "Input \u001b[1;32mIn [4]\u001b[0m, in \u001b[0;36m<cell line: 1>\u001b[1;34m()\u001b[0m\n\u001b[1;32m----> 1\u001b[0m \u001b[38;5;28;01mimport\u001b[39;00m \u001b[38;5;21;01mdatabase_account\u001b[39;00m\n",
      "\u001b[1;31mModuleNotFoundError\u001b[0m: No module named 'database_account'"
     ]
    }
   ],
   "source": [
    "import database_account"
   ]
  },
  {
   "cell_type": "code",
   "execution_count": 9,
   "id": "66a6b8d4",
   "metadata": {},
   "outputs": [
    {
     "name": "stdout",
     "output_type": "stream",
     "text": [
      "Requirement already satisfied: databases in c:\\sadish\\annaconda\\files\\lib\\site-packages (0.6.1)Note: you may need to restart the kernel to use updated packages.\n",
      "\n",
      "Requirement already satisfied: sqlalchemy<1.5,>=1.4 in c:\\sadish\\annaconda\\files\\lib\\site-packages (from databases) (1.4.32)\n",
      "Requirement already satisfied: greenlet!=0.4.17 in c:\\sadish\\annaconda\\files\\lib\\site-packages (from sqlalchemy<1.5,>=1.4->databases) (1.1.1)\n"
     ]
    }
   ],
   "source": [
    "pip install databases\n"
   ]
  },
  {
   "cell_type": "code",
   "execution_count": null,
   "id": "ed95d0a3",
   "metadata": {},
   "outputs": [],
   "source": [
    "pip install databases[postgresql]\n",
    "pip install databases[mysql]\n",
    "pip install databases[sqlite]"
   ]
  },
  {
   "cell_type": "code",
   "execution_count": 21,
   "id": "0ff1c3a6",
   "metadata": {},
   "outputs": [],
   "source": [
    "from databases  import Database"
   ]
  },
  {
   "cell_type": "code",
   "execution_count": 10,
   "id": "696a508a",
   "metadata": {},
   "outputs": [
    {
     "name": "stdout",
     "output_type": "stream",
     "text": [
      "Requirement already satisfied: databases[postgresql] in c:\\sadish\\annaconda\\files\\lib\\site-packages (0.6.1)\n",
      "Requirement already satisfied: sqlalchemy<1.5,>=1.4 in c:\\sadish\\annaconda\\files\\lib\\site-packages (from databases[postgresql]) (1.4.32)\n",
      "Collecting asyncpg\n",
      "  Downloading asyncpg-0.26.0-cp39-cp39-win_amd64.whl (530 kB)\n",
      "Requirement already satisfied: greenlet!=0.4.17 in c:\\sadish\\annaconda\\files\\lib\\site-packages (from sqlalchemy<1.5,>=1.4->databases[postgresql]) (1.1.1)\n",
      "Installing collected packages: asyncpg\n",
      "Successfully installed asyncpg-0.26.0\n",
      "Note: you may need to restart the kernel to use updated packages.\n"
     ]
    }
   ],
   "source": [
    "pip install databases[postgresql]\n"
   ]
  },
  {
   "cell_type": "code",
   "execution_count": 11,
   "id": "19460e2f",
   "metadata": {},
   "outputs": [
    {
     "name": "stdout",
     "output_type": "stream",
     "text": [
      "Requirement already satisfied: databases[mysql] in c:\\sadish\\annaconda\\files\\lib\\site-packages (0.6.1)\n",
      "Requirement already satisfied: sqlalchemy<1.5,>=1.4 in c:\\sadish\\annaconda\\files\\lib\\site-packages (from databases[mysql]) (1.4.32)\n",
      "Collecting aiomysql\n",
      "  Downloading aiomysql-0.1.1-py3-none-any.whl (43 kB)\n",
      "Requirement already satisfied: greenlet!=0.4.17 in c:\\sadish\\annaconda\\files\\lib\\site-packages (from sqlalchemy<1.5,>=1.4->databases[mysql]) (1.1.1)\n",
      "Collecting PyMySQL>=1.0\n",
      "  Downloading PyMySQL-1.0.2-py3-none-any.whl (43 kB)\n",
      "Installing collected packages: PyMySQL, aiomysql\n",
      "Successfully installed PyMySQL-1.0.2 aiomysql-0.1.1\n",
      "Note: you may need to restart the kernel to use updated packages.\n"
     ]
    }
   ],
   "source": [
    "pip install databases[mysql]\n"
   ]
  },
  {
   "cell_type": "code",
   "execution_count": 12,
   "id": "313eb0c7",
   "metadata": {},
   "outputs": [
    {
     "name": "stdout",
     "output_type": "stream",
     "text": [
      "Requirement already satisfied: databases[sqlite] in c:\\sadish\\annaconda\\files\\lib\\site-packages (0.6.1)\n",
      "Requirement already satisfied: sqlalchemy<1.5,>=1.4 in c:\\sadish\\annaconda\\files\\lib\\site-packages (from databases[sqlite]) (1.4.32)\n",
      "Collecting aiosqlite\n",
      "  Downloading aiosqlite-0.17.0-py3-none-any.whl (15 kB)\n",
      "Requirement already satisfied: greenlet!=0.4.17 in c:\\sadish\\annaconda\\files\\lib\\site-packages (from sqlalchemy<1.5,>=1.4->databases[sqlite]) (1.1.1)\n",
      "Requirement already satisfied: typing_extensions>=3.7.2 in c:\\sadish\\annaconda\\files\\lib\\site-packages (from aiosqlite->databases[sqlite]) (4.1.1)\n",
      "Installing collected packages: aiosqlite\n",
      "Successfully installed aiosqlite-0.17.0\n",
      "Note: you may need to restart the kernel to use updated packages.\n"
     ]
    }
   ],
   "source": [
    "pip install databases[sqlite]"
   ]
  },
  {
   "cell_type": "code",
   "execution_count": 19,
   "id": "ac956757",
   "metadata": {},
   "outputs": [],
   "source": [
    "from databases  import Database"
   ]
  }
 ],
 "metadata": {
  "kernelspec": {
   "display_name": "Python 3 (ipykernel)",
   "language": "python",
   "name": "python3"
  },
  "language_info": {
   "codemirror_mode": {
    "name": "ipython",
    "version": 3
   },
   "file_extension": ".py",
   "mimetype": "text/x-python",
   "name": "python",
   "nbconvert_exporter": "python",
   "pygments_lexer": "ipython3",
   "version": "3.9.12"
  }
 },
 "nbformat": 4,
 "nbformat_minor": 5
}
