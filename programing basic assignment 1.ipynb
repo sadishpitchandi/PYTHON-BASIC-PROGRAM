{
 "cells": [
  {
   "cell_type": "code",
   "execution_count": 15,
   "id": "dd91ca5d",
   "metadata": {},
   "outputs": [
    {
     "name": "stdout",
     "output_type": "stream",
     "text": [
      "hello python\n"
     ]
    }
   ],
   "source": [
    "'''1.Write a Python program to print Hello Python?'''\n",
    "#def fn1(a):\n",
    "    #return a\n",
    "#fn1(\"hello  python\")\n",
    "\n",
    "a=\"hello python\"\n",
    "print(a)"
   ]
  },
  {
   "cell_type": "code",
   "execution_count": 16,
   "id": "d18e2b63",
   "metadata": {},
   "outputs": [
    {
     "name": "stdout",
     "output_type": "stream",
     "text": [
      "30\n",
      "2.0\n"
     ]
    }
   ],
   "source": [
    "'''2.Write a Python program to do arithmetical operations addition and division.?'''\n",
    "a=20\n",
    "b=10\n",
    "c=a+b\n",
    "d=a/b\n",
    "print(c)\n",
    "print(d)"
   ]
  },
  {
   "cell_type": "code",
   "execution_count": 2,
   "id": "53ad961d",
   "metadata": {},
   "outputs": [
    {
     "data": {
      "text/plain": [
       "600.0"
      ]
     },
     "execution_count": 2,
     "metadata": {},
     "output_type": "execute_result"
    }
   ],
   "source": [
    "'''3.Write a Python program to find the area of a triangle?'''\n",
    "b=30\n",
    "h=40\n",
    "''' tofind the area of the triangle \n",
    "    b= base  h= heigt A = ½ bh Where b = base, h = h '''\n",
    "areaoftrinagle=(1/2)*b*h\n",
    "areaoftrinagle\n",
    "\n",
    "\n"
   ]
  },
  {
   "cell_type": "code",
   "execution_count": 3,
   "id": "97e42588",
   "metadata": {},
   "outputs": [
    {
     "name": "stdout",
     "output_type": "stream",
     "text": [
      "10\n",
      "12\n",
      "14\n",
      "s is the perimeter and the value is 18.0\n",
      " areaoftri of given  three Sides 10 Cm, 12cm and 14 Cm is 58.787753826796276cm\n"
     ]
    }
   ],
   "source": [
    "'''3.Write a Python program to find the area of a triangle?'''\n",
    "\n",
    "\n",
    "\n",
    "'''Find the Area of a Triangle, Which Has Three Sides 10 Cm, 12cm and 14 Cm\n",
    "    Area of the triangle = power(1/2) s(s−a)(s−b)(s−c)'''\n",
    "\n",
    "x=int(input())\n",
    "y=int(input())\n",
    "z=int(input())\n",
    "\n",
    "\n",
    "\n",
    "   #formula for perimeter \n",
    "s=(1/2)*(x+y+z)\n",
    "print(\"s is the perimeter and the value is {}\".format(s))\n",
    "\n",
    "    #formula for area of triangle\n",
    "areaoftri=(s*(s-x)*(s-y)*(s-z))**(1/2)\n",
    "print(\" areaoftri of given  three Sides 10 Cm, 12cm and 14 Cm is {}cm\".format(areaoftri) )\n"
   ]
  },
  {
   "cell_type": "code",
   "execution_count": 1,
   "id": "44e61da6",
   "metadata": {},
   "outputs": [
    {
     "name": "stdout",
     "output_type": "stream",
     "text": [
      "10\n",
      "50\n",
      "the swaping the given value is 10 and 50 but we get  50 and {10}\n",
      "\"ineroen\"\n",
      "\"sadish\"\n",
      "please call \"sadish\" from \"ineroen\"\n"
     ]
    }
   ],
   "source": [
    "'''4.Write a Python program to swap two variables?'''\n",
    "\n",
    "a=int(input())\n",
    "b=int(input())\n",
    "\n",
    "#swaping exchange the variable\n",
    "a,b=b,a\n",
    "print(\"the given value is 10 and 50 and the swaping is  \" ,a ,\"and\",b)\n",
    "\n",
    "\n",
    "# swaping  exchange the string\n",
    "x=str(input())\n",
    "y=str(input())\n",
    "x,y=y,x\n",
    "print(\"please call {c} from {q}\".format(q=y,c=x,))\n",
    "\n",
    "\n",
    "\n",
    "#output\n",
    "#\"ineroen\"\n",
    "#\"sadish\"\n",
    "#please call \"sadish\" from \"ineroen\""
   ]
  },
  {
   "cell_type": "code",
   "execution_count": 21,
   "id": "9db6977e",
   "metadata": {},
   "outputs": [
    {
     "name": "stdout",
     "output_type": "stream",
     "text": [
      "0.11460565868350181\n"
     ]
    }
   ],
   "source": [
    "'''5. Write a Python program to generate a random number?'''\n",
    "\n",
    "import random\n",
    "n=random.random()\n",
    "print(n)\n"
   ]
  },
  {
   "cell_type": "code",
   "execution_count": null,
   "id": "747d8921",
   "metadata": {},
   "outputs": [],
   "source": []
  },
  {
   "cell_type": "code",
   "execution_count": null,
   "id": "686638dc",
   "metadata": {},
   "outputs": [],
   "source": []
  },
  {
   "cell_type": "code",
   "execution_count": null,
   "id": "81ea356c",
   "metadata": {},
   "outputs": [],
   "source": []
  },
  {
   "cell_type": "code",
   "execution_count": null,
   "id": "b67ff973",
   "metadata": {},
   "outputs": [],
   "source": []
  }
 ],
 "metadata": {
  "kernelspec": {
   "display_name": "Python 3 (ipykernel)",
   "language": "python",
   "name": "python3"
  },
  "language_info": {
   "codemirror_mode": {
    "name": "ipython",
    "version": 3
   },
   "file_extension": ".py",
   "mimetype": "text/x-python",
   "name": "python",
   "nbconvert_exporter": "python",
   "pygments_lexer": "ipython3",
   "version": "3.9.7"
  }
 },
 "nbformat": 4,
 "nbformat_minor": 5
}
