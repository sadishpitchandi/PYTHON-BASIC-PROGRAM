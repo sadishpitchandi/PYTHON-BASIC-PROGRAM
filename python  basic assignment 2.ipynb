{
 "cells": [
  {
   "cell_type": "code",
   "execution_count": 2,
   "id": "0819f17e",
   "metadata": {},
   "outputs": [
    {
     "name": "stdout",
     "output_type": "stream",
     "text": [
      "enter the value as kilometer7\n",
      "7.0 kilometer is cover to miles 4.34959\n"
     ]
    }
   ],
   "source": [
    "'''1.Write a Python program to convert kilometers to miles?'''\n",
    "\n",
    "#1 kilometer equals approximately 0.62137 miles\n",
    "a=float(input(\"enter the value as kilometer\"))\n",
    "b=a*0.62137\n",
    "print(a,\"kilometer is cover to miles\",b)     \n",
    "\n",
    "#output\n",
    "#enter the value as kilometer5\n",
    "#5.0 kilometer is cover to miles 3.1068499999999997\n",
    "\n"
   ]
  },
  {
   "cell_type": "code",
   "execution_count": 2,
   "id": "08d2c5d4",
   "metadata": {},
   "outputs": [
    {
     "name": "stdout",
     "output_type": "stream",
     "text": [
      "given float as Celsius (°C)88\n",
      "therefore 88.0 Celsius (°C) is equal to 190.4  Fahrenheit (°F)\n"
     ]
    }
   ],
   "source": [
    "'''2. Write a Python program to convert Celsius to Fahrenheit?'''\n",
    "\n",
    "#Fahrenheit (°F) = (Celsius x 1.8) + 32\n",
    "\n",
    "a=float(input(\"given float as Celsius (°C)\"))\n",
    "fahrenheit = (a * 1.8) + 32\n",
    "print(\"therefore\" ,a ,\"Celsius (°C) is equal to\",fahrenheit,\" Fahrenheit (°F)\")\n",
    "\n",
    "\n",
    "##output\n",
    "\n",
    "#given Celsius (°C)13\n",
    "#therefore 13.0 Celsius (°C) is equal to 55.400000000000006  Fahrenheit (°F)\n"
   ]
  },
  {
   "cell_type": "code",
   "execution_count": null,
   "id": "321f476a",
   "metadata": {},
   "outputs": [],
   "source": [
    "'''3.write a Python program to display calendar?'''\n",
    "import calendar\n",
    "y=int(input(\"enter year :\"))\n",
    "m=int(input(\"enter the month: \"))\n",
    "print(calendar.month(y,m))\n"
   ]
  },
  {
   "cell_type": "code",
   "execution_count": 24,
   "id": "5466b12b",
   "metadata": {},
   "outputs": [
    {
     "name": "stdout",
     "output_type": "stream",
     "text": [
      "The roots are\n",
      "(-3.414213562373095+0j)\n",
      "(-0.5857864376269049+0j)\n"
     ]
    }
   ],
   "source": [
    "'''4.Write a Python program to solve quadratic equation?'''\n",
    "\n",
    "import cmath\n",
    "#1x+4y+2z=0\n",
    "a=1\n",
    "b=4\n",
    "c=2\n",
    "dis = (b**2) - (4 * a*c)\n",
    "\n",
    "ans1 = (-b-cmath.sqrt(dis))/(2 * a)\n",
    "ans2 = (-b + cmath.sqrt(dis))/(2 * a)\n",
    "  \n",
    "print('The roots are')\n",
    "print(ans1)\n",
    "print(ans2)"
   ]
  },
  {
   "cell_type": "code",
   "execution_count": 34,
   "id": "9ecd1d0c",
   "metadata": {},
   "outputs": [
    {
     "name": "stdout",
     "output_type": "stream",
     "text": [
      "the value of a 50\n",
      "the value of b 10\n",
      "the value of x 40\n",
      "the value of y 20\n"
     ]
    }
   ],
   "source": [
    "'''5. Write a Python program to swap two variables without temp variable?'''\n",
    "#to swap two variables  temp variable\n",
    "a=10\n",
    "b=50\n",
    "temp=a\n",
    "a=b\n",
    "b=temp\n",
    "print(\"the value of a\",a)\n",
    "print(\"the value of b\",b)\n",
    "\n",
    "#to swap two variables without temp variable\n",
    "\n",
    "x=20\n",
    "y=40\n",
    "x,y=y,x\n",
    "print(\"the value of x\",x)\n",
    "print(\"the value of y\",y)"
   ]
  },
  {
   "cell_type": "code",
   "execution_count": 9,
   "id": "ecfba2b4",
   "metadata": {},
   "outputs": [],
   "source": []
  },
  {
   "cell_type": "code",
   "execution_count": null,
   "id": "b5e1e98a",
   "metadata": {},
   "outputs": [],
   "source": []
  },
  {
   "cell_type": "code",
   "execution_count": 14,
   "id": "95eef22c",
   "metadata": {},
   "outputs": [],
   "source": []
  },
  {
   "cell_type": "code",
   "execution_count": null,
   "id": "812b5daa",
   "metadata": {},
   "outputs": [],
   "source": []
  },
  {
   "cell_type": "code",
   "execution_count": null,
   "id": "dd511622",
   "metadata": {},
   "outputs": [],
   "source": []
  },
  {
   "cell_type": "code",
   "execution_count": null,
   "id": "301e914e",
   "metadata": {},
   "outputs": [],
   "source": []
  },
  {
   "cell_type": "code",
   "execution_count": 25,
   "id": "907a6599",
   "metadata": {},
   "outputs": [],
   "source": []
  },
  {
   "cell_type": "code",
   "execution_count": null,
   "id": "e8c8e638",
   "metadata": {},
   "outputs": [],
   "source": []
  }
 ],
 "metadata": {
  "kernelspec": {
   "display_name": "Python 3 (ipykernel)",
   "language": "python",
   "name": "python3"
  },
  "language_info": {
   "codemirror_mode": {
    "name": "ipython",
    "version": 3
   },
   "file_extension": ".py",
   "mimetype": "text/x-python",
   "name": "python",
   "nbconvert_exporter": "python",
   "pygments_lexer": "ipython3",
   "version": "3.9.7"
  }
 },
 "nbformat": 4,
 "nbformat_minor": 5
}
